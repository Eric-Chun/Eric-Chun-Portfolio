{
 "cells": [
  {
   "cell_type": "code",
   "execution_count": 1,
   "metadata": {
    "ExecuteTime": {
     "end_time": "2019-05-05T20:19:23.381452Z",
     "start_time": "2019-05-05T20:19:22.875162Z"
    }
   },
   "outputs": [],
   "source": [
    "%matplotlib inline\n",
    "import matplotlib.pyplot as plt\n",
    "import numpy as np\n",
    "import torch\n",
    "import torchvision\n",
    "import torchvision.transforms as transforms\n",
    "import torch.nn as nn\n",
    "import torch.nn.functional as F\n",
    "import torch.optim as optim"
   ]
  },
  {
   "cell_type": "markdown",
   "metadata": {
    "ExecuteTime": {
     "end_time": "2019-05-05T19:49:54.053090Z",
     "start_time": "2019-05-05T19:49:43.413Z"
    }
   },
   "source": [
    "#### Prepare for Dataset"
   ]
  },
  {
   "cell_type": "code",
   "execution_count": 2,
   "metadata": {
    "ExecuteTime": {
     "end_time": "2019-05-05T20:19:24.679448Z",
     "start_time": "2019-05-05T20:19:23.383032Z"
    }
   },
   "outputs": [],
   "source": [
    "transform = transforms.Compose(\n",
    "    [transforms.ToTensor(),\n",
    "     transforms.Normalize((0.5, 0.5, 0.5), (0.5, 0.5, 0.5))])\n",
    "\n",
    "trainset = torchvision.datasets.CIFAR10(root='./data', train=True,\n",
    "                                        download=True, transform=transform)\n",
    "trainloader = torch.utils.data.DataLoader(trainset, batch_size=128,\n",
    "                                          shuffle=True, num_workers=2)\n",
    "\n",
    "testset = torchvision.datasets.CIFAR10(root='./data', train=False,\n",
    "                                       download=True, transform=transform)\n",
    "testloader = torch.utils.data.DataLoader(testset, batch_size=128,\n",
    "                                         shuffle=False, num_workers=2)\n",
    "\n",
    "classes = ('plane', 'car', 'bird', 'cat',\n",
    "           'deer', 'dog', 'frog', 'horse', 'ship', 'truck')"
   ]
  },
  {
   "cell_type": "markdown",
   "metadata": {},
   "source": [
    "#### Choose a Device"
   ]
  },
  {
   "cell_type": "code",
   "execution_count": 3,
   "metadata": {
    "ExecuteTime": {
     "end_time": "2019-05-05T20:19:26.653269Z",
     "start_time": "2019-05-05T20:19:24.834664Z"
    }
   },
   "outputs": [
    {
     "name": "stdout",
     "output_type": "stream",
     "text": [
      "cpu\n"
     ]
    }
   ],
   "source": [
    "# If there are GPUs, choose the first one for computing. Otherwise use CPU.\n",
    "device = torch.device(\"cuda:0\" if torch.cuda.is_available() else \"cpu\")\n",
    "print(device)  \n",
    "# If 'cuda:0' is printed, it means GPU is available."
   ]
  },
  {
   "cell_type": "markdown",
   "metadata": {},
   "source": [
    "#### Network Definition"
   ]
  },
  {
   "cell_type": "code",
   "execution_count": 4,
   "metadata": {
    "ExecuteTime": {
     "end_time": "2019-05-05T20:19:28.825065Z",
     "start_time": "2019-05-05T20:19:26.656199Z"
    }
   },
   "outputs": [
    {
     "data": {
      "text/plain": [
       "Net(\n",
       "  (conv1): Conv2d(3, 10, kernel_size=(3, 3), stride=(1, 1), padding=(1, 1))\n",
       "  (bn1): BatchNorm2d(10, eps=1e-05, momentum=0.1, affine=True, track_running_stats=True)\n",
       "  (conv2): Conv2d(10, 20, kernel_size=(3, 3), stride=(1, 1), padding=(1, 1))\n",
       "  (bn2): BatchNorm2d(20, eps=1e-05, momentum=0.1, affine=True, track_running_stats=True)\n",
       "  (pool): AvgPool2d(kernel_size=2, stride=2, padding=0)\n",
       "  (fc1): Linear(in_features=1280, out_features=100, bias=True)\n",
       "  (dropout1): Dropout(p=0.5, inplace=False)\n",
       "  (fc2): Linear(in_features=100, out_features=10, bias=True)\n",
       ")"
      ]
     },
     "execution_count": 4,
     "metadata": {},
     "output_type": "execute_result"
    }
   ],
   "source": [
    "class Net(nn.Module):\n",
    "    def __init__(self):\n",
    "        super(Net, self).__init__()\n",
    "        self.conv1 = nn.Conv2d(in_channels=3, out_channels=10, kernel_size=3, stride=1, padding=1)\n",
    "        self.bn1 = nn.BatchNorm2d(10)\n",
    "        self.conv2 = nn.Conv2d(in_channels=10, out_channels=20, kernel_size=3, stride=1, padding=1)\n",
    "        self.bn2 = nn.BatchNorm2d(20)\n",
    "        self.pool = nn.AvgPool2d(kernel_size=2, stride=2)\n",
    "        self.fc1 = nn.Linear(20 * 8 * 8, 100)\n",
    "        self.dropout1 = nn.Dropout(0.5)\n",
    "        self.fc2 = nn.Linear(100, 10)\n",
    "        \n",
    "        \n",
    "    def forward(self, x):\n",
    "        x = self.pool(F.relu(self.bn1(self.conv1(x))))\n",
    "        x = self.pool(F.relu(self.bn2(self.conv2(x))))\n",
    "        x = torch.flatten(x, 1)\n",
    "        x = F.relu(self.fc1(x))\n",
    "        x = self.dropout1(x)\n",
    "        x = self.fc2(x)\n",
    "        return x\n",
    "\n",
    "net = Net()     # Create the network instance.\n",
    "net.to(device)  # Move the network parameters to the specified device."
   ]
  },
  {
   "cell_type": "markdown",
   "metadata": {},
   "source": [
    "#### Optimizer and Loss Function"
   ]
  },
  {
   "cell_type": "code",
   "execution_count": 5,
   "metadata": {
    "ExecuteTime": {
     "end_time": "2019-05-05T20:19:28.829188Z",
     "start_time": "2019-05-05T20:19:28.826479Z"
    }
   },
   "outputs": [],
   "source": [
    "# We use cross-entropy as loss function.\n",
    "loss_func = nn.CrossEntropyLoss()  \n",
    "# We use stochastic gradient descent (SGD) as optimizer.\n",
    "opt = optim.SGD(net.parameters(), lr=0.001, momentum=0.9, weight_decay=0.0001) "
   ]
  },
  {
   "cell_type": "markdown",
   "metadata": {},
   "source": [
    "#### Training Procedure"
   ]
  },
  {
   "cell_type": "code",
   "execution_count": 6,
   "metadata": {
    "ExecuteTime": {
     "end_time": "2019-05-05T20:22:28.967647Z",
     "start_time": "2019-05-05T20:19:28.830370Z"
    },
    "scrolled": false
   },
   "outputs": [
    {
     "name": "stdout",
     "output_type": "stream",
     "text": [
      "[epoch: 0, i:    99] avg mini-batch loss: 2.242\n",
      "[epoch: 0, i:   199] avg mini-batch loss: 2.086\n",
      "[epoch: 0, i:   299] avg mini-batch loss: 1.987\n",
      "[epoch: 1, i:    99] avg mini-batch loss: 1.854\n",
      "[epoch: 1, i:   199] avg mini-batch loss: 1.792\n",
      "[epoch: 1, i:   299] avg mini-batch loss: 1.736\n",
      "[epoch: 2, i:    99] avg mini-batch loss: 1.682\n",
      "[epoch: 2, i:   199] avg mini-batch loss: 1.637\n",
      "[epoch: 2, i:   299] avg mini-batch loss: 1.599\n",
      "[epoch: 3, i:    99] avg mini-batch loss: 1.562\n",
      "[epoch: 3, i:   199] avg mini-batch loss: 1.547\n",
      "[epoch: 3, i:   299] avg mini-batch loss: 1.528\n",
      "[epoch: 4, i:    99] avg mini-batch loss: 1.484\n",
      "[epoch: 4, i:   199] avg mini-batch loss: 1.473\n",
      "[epoch: 4, i:   299] avg mini-batch loss: 1.453\n",
      "[epoch: 5, i:    99] avg mini-batch loss: 1.431\n",
      "[epoch: 5, i:   199] avg mini-batch loss: 1.406\n",
      "[epoch: 5, i:   299] avg mini-batch loss: 1.414\n",
      "[epoch: 6, i:    99] avg mini-batch loss: 1.368\n",
      "[epoch: 6, i:   199] avg mini-batch loss: 1.361\n",
      "[epoch: 6, i:   299] avg mini-batch loss: 1.370\n",
      "[epoch: 7, i:    99] avg mini-batch loss: 1.329\n",
      "[epoch: 7, i:   199] avg mini-batch loss: 1.323\n",
      "[epoch: 7, i:   299] avg mini-batch loss: 1.313\n",
      "[epoch: 8, i:    99] avg mini-batch loss: 1.298\n",
      "[epoch: 8, i:   199] avg mini-batch loss: 1.284\n",
      "[epoch: 8, i:   299] avg mini-batch loss: 1.264\n",
      "[epoch: 9, i:    99] avg mini-batch loss: 1.254\n",
      "[epoch: 9, i:   199] avg mini-batch loss: 1.243\n",
      "[epoch: 9, i:   299] avg mini-batch loss: 1.244\n",
      "[epoch: 10, i:    99] avg mini-batch loss: 1.214\n",
      "[epoch: 10, i:   199] avg mini-batch loss: 1.221\n",
      "[epoch: 10, i:   299] avg mini-batch loss: 1.203\n",
      "[epoch: 11, i:    99] avg mini-batch loss: 1.188\n",
      "[epoch: 11, i:   199] avg mini-batch loss: 1.193\n",
      "[epoch: 11, i:   299] avg mini-batch loss: 1.191\n",
      "[epoch: 12, i:    99] avg mini-batch loss: 1.181\n",
      "[epoch: 12, i:   199] avg mini-batch loss: 1.161\n",
      "[epoch: 12, i:   299] avg mini-batch loss: 1.143\n",
      "[epoch: 13, i:    99] avg mini-batch loss: 1.134\n",
      "[epoch: 13, i:   199] avg mini-batch loss: 1.126\n",
      "[epoch: 13, i:   299] avg mini-batch loss: 1.144\n",
      "[epoch: 14, i:    99] avg mini-batch loss: 1.095\n",
      "[epoch: 14, i:   199] avg mini-batch loss: 1.115\n",
      "[epoch: 14, i:   299] avg mini-batch loss: 1.109\n",
      "[epoch: 15, i:    99] avg mini-batch loss: 1.084\n",
      "[epoch: 15, i:   199] avg mini-batch loss: 1.090\n",
      "[epoch: 15, i:   299] avg mini-batch loss: 1.077\n",
      "[epoch: 16, i:    99] avg mini-batch loss: 1.061\n",
      "[epoch: 16, i:   199] avg mini-batch loss: 1.070\n",
      "[epoch: 16, i:   299] avg mini-batch loss: 1.069\n",
      "[epoch: 17, i:    99] avg mini-batch loss: 1.050\n",
      "[epoch: 17, i:   199] avg mini-batch loss: 1.038\n",
      "[epoch: 17, i:   299] avg mini-batch loss: 1.049\n",
      "[epoch: 18, i:    99] avg mini-batch loss: 1.028\n",
      "[epoch: 18, i:   199] avg mini-batch loss: 1.036\n",
      "[epoch: 18, i:   299] avg mini-batch loss: 1.051\n",
      "[epoch: 19, i:    99] avg mini-batch loss: 1.014\n",
      "[epoch: 19, i:   199] avg mini-batch loss: 1.022\n",
      "[epoch: 19, i:   299] avg mini-batch loss: 1.023\n",
      "[epoch: 20, i:    99] avg mini-batch loss: 1.003\n",
      "[epoch: 20, i:   199] avg mini-batch loss: 1.000\n",
      "[epoch: 20, i:   299] avg mini-batch loss: 1.016\n",
      "[epoch: 21, i:    99] avg mini-batch loss: 0.999\n",
      "[epoch: 21, i:   199] avg mini-batch loss: 1.011\n",
      "[epoch: 21, i:   299] avg mini-batch loss: 0.995\n",
      "[epoch: 22, i:    99] avg mini-batch loss: 0.981\n",
      "[epoch: 22, i:   199] avg mini-batch loss: 0.983\n",
      "[epoch: 22, i:   299] avg mini-batch loss: 0.987\n",
      "[epoch: 23, i:    99] avg mini-batch loss: 0.969\n",
      "[epoch: 23, i:   199] avg mini-batch loss: 0.991\n",
      "[epoch: 23, i:   299] avg mini-batch loss: 0.984\n",
      "[epoch: 24, i:    99] avg mini-batch loss: 0.978\n",
      "[epoch: 24, i:   199] avg mini-batch loss: 0.949\n",
      "[epoch: 24, i:   299] avg mini-batch loss: 0.970\n",
      "[epoch: 25, i:    99] avg mini-batch loss: 0.957\n",
      "[epoch: 25, i:   199] avg mini-batch loss: 0.953\n",
      "[epoch: 25, i:   299] avg mini-batch loss: 0.952\n",
      "[epoch: 26, i:    99] avg mini-batch loss: 0.940\n",
      "[epoch: 26, i:   199] avg mini-batch loss: 0.945\n",
      "[epoch: 26, i:   299] avg mini-batch loss: 0.933\n",
      "[epoch: 27, i:    99] avg mini-batch loss: 0.927\n",
      "[epoch: 27, i:   199] avg mini-batch loss: 0.937\n",
      "[epoch: 27, i:   299] avg mini-batch loss: 0.927\n",
      "[epoch: 28, i:    99] avg mini-batch loss: 0.910\n",
      "[epoch: 28, i:   199] avg mini-batch loss: 0.929\n",
      "[epoch: 28, i:   299] avg mini-batch loss: 0.923\n",
      "[epoch: 29, i:    99] avg mini-batch loss: 0.903\n",
      "[epoch: 29, i:   199] avg mini-batch loss: 0.928\n",
      "[epoch: 29, i:   299] avg mini-batch loss: 0.926\n",
      "[epoch: 30, i:    99] avg mini-batch loss: 0.910\n",
      "[epoch: 30, i:   199] avg mini-batch loss: 0.908\n",
      "[epoch: 30, i:   299] avg mini-batch loss: 0.915\n",
      "[epoch: 31, i:    99] avg mini-batch loss: 0.906\n",
      "[epoch: 31, i:   199] avg mini-batch loss: 0.896\n",
      "[epoch: 31, i:   299] avg mini-batch loss: 0.890\n",
      "[epoch: 32, i:    99] avg mini-batch loss: 0.869\n",
      "[epoch: 32, i:   199] avg mini-batch loss: 0.873\n",
      "[epoch: 32, i:   299] avg mini-batch loss: 0.908\n",
      "[epoch: 33, i:    99] avg mini-batch loss: 0.887\n",
      "[epoch: 33, i:   199] avg mini-batch loss: 0.874\n",
      "[epoch: 33, i:   299] avg mini-batch loss: 0.887\n",
      "[epoch: 34, i:    99] avg mini-batch loss: 0.879\n",
      "[epoch: 34, i:   199] avg mini-batch loss: 0.875\n",
      "[epoch: 34, i:   299] avg mini-batch loss: 0.865\n",
      "[epoch: 35, i:    99] avg mini-batch loss: 0.870\n",
      "[epoch: 35, i:   199] avg mini-batch loss: 0.862\n",
      "[epoch: 35, i:   299] avg mini-batch loss: 0.884\n",
      "[epoch: 36, i:    99] avg mini-batch loss: 0.856\n",
      "[epoch: 36, i:   199] avg mini-batch loss: 0.868\n",
      "[epoch: 36, i:   299] avg mini-batch loss: 0.866\n",
      "[epoch: 37, i:    99] avg mini-batch loss: 0.853\n",
      "[epoch: 37, i:   199] avg mini-batch loss: 0.848\n",
      "[epoch: 37, i:   299] avg mini-batch loss: 0.848\n",
      "[epoch: 38, i:    99] avg mini-batch loss: 0.847\n",
      "[epoch: 38, i:   199] avg mini-batch loss: 0.835\n",
      "[epoch: 38, i:   299] avg mini-batch loss: 0.860\n",
      "[epoch: 39, i:    99] avg mini-batch loss: 0.823\n",
      "[epoch: 39, i:   199] avg mini-batch loss: 0.831\n",
      "[epoch: 39, i:   299] avg mini-batch loss: 0.855\n",
      "[epoch: 40, i:    99] avg mini-batch loss: 0.832\n",
      "[epoch: 40, i:   199] avg mini-batch loss: 0.822\n",
      "[epoch: 40, i:   299] avg mini-batch loss: 0.838\n",
      "[epoch: 41, i:    99] avg mini-batch loss: 0.831\n",
      "[epoch: 41, i:   199] avg mini-batch loss: 0.832\n",
      "[epoch: 41, i:   299] avg mini-batch loss: 0.826\n",
      "[epoch: 42, i:    99] avg mini-batch loss: 0.826\n",
      "[epoch: 42, i:   199] avg mini-batch loss: 0.818\n",
      "[epoch: 42, i:   299] avg mini-batch loss: 0.815\n",
      "[epoch: 43, i:    99] avg mini-batch loss: 0.810\n",
      "[epoch: 43, i:   199] avg mini-batch loss: 0.812\n",
      "[epoch: 43, i:   299] avg mini-batch loss: 0.818\n",
      "[epoch: 44, i:    99] avg mini-batch loss: 0.815\n",
      "[epoch: 44, i:   199] avg mini-batch loss: 0.799\n",
      "[epoch: 44, i:   299] avg mini-batch loss: 0.819\n",
      "[epoch: 45, i:    99] avg mini-batch loss: 0.796\n",
      "[epoch: 45, i:   199] avg mini-batch loss: 0.814\n",
      "[epoch: 45, i:   299] avg mini-batch loss: 0.807\n",
      "[epoch: 46, i:    99] avg mini-batch loss: 0.804\n",
      "[epoch: 46, i:   199] avg mini-batch loss: 0.804\n",
      "[epoch: 46, i:   299] avg mini-batch loss: 0.805\n",
      "[epoch: 47, i:    99] avg mini-batch loss: 0.794\n",
      "[epoch: 47, i:   199] avg mini-batch loss: 0.796\n",
      "[epoch: 47, i:   299] avg mini-batch loss: 0.814\n",
      "[epoch: 48, i:    99] avg mini-batch loss: 0.795\n",
      "[epoch: 48, i:   199] avg mini-batch loss: 0.796\n",
      "[epoch: 48, i:   299] avg mini-batch loss: 0.792\n",
      "[epoch: 49, i:    99] avg mini-batch loss: 0.790\n",
      "[epoch: 49, i:   199] avg mini-batch loss: 0.782\n",
      "[epoch: 49, i:   299] avg mini-batch loss: 0.785\n",
      "Finished Training.\n"
     ]
    }
   ],
   "source": [
    "avg_losses = []   # Avg. losses.\n",
    "epochs = 50       # Total epochs.\n",
    "print_freq = 100  # Print frequency.\n",
    "\n",
    "for epoch in range(epochs):  # Loop over the dataset multiple times.\n",
    "    running_loss = 0.0       # Initialize running loss.\n",
    "    for i, data in enumerate(trainloader, 0):\n",
    "        # Get the inputs.\n",
    "        inputs, labels = data\n",
    "        \n",
    "        # Move the inputs to the specified device.\n",
    "        inputs, labels = inputs.to(device), labels.to(device)\n",
    "        \n",
    "        # Zero the parameter gradients.\n",
    "        opt.zero_grad()\n",
    "\n",
    "        # Forward step.\n",
    "        outputs = net(inputs)\n",
    "        loss = loss_func(outputs, labels)\n",
    "        \n",
    "        # Backward step.\n",
    "        loss.backward()\n",
    "        \n",
    "        # Optimization step (update the parameters).\n",
    "        opt.step()\n",
    "\n",
    "        # Print statistics.\n",
    "        running_loss += loss.item()\n",
    "        if i % print_freq == print_freq - 1: # Print every several mini-batches.\n",
    "            avg_loss = running_loss / print_freq\n",
    "            print('[epoch: {}, i: {:5d}] avg mini-batch loss: {:.3f}'.format(\n",
    "                epoch, i, avg_loss))\n",
    "            avg_losses.append(avg_loss)\n",
    "            running_loss = 0.0\n",
    "\n",
    "print('Finished Training.')"
   ]
  },
  {
   "cell_type": "markdown",
   "metadata": {},
   "source": [
    "#### Training Loss Curve"
   ]
  },
  {
   "cell_type": "code",
   "execution_count": 7,
   "metadata": {
    "ExecuteTime": {
     "end_time": "2019-05-05T20:22:29.127185Z",
     "start_time": "2019-05-05T20:22:28.969956Z"
    }
   },
   "outputs": [
    {
     "data": {
      "image/png": "[encoded data removed]",
      "text/plain": [
       "<Figure size 640x480 with 1 Axes>"
      ]
     },
     "metadata": {},
     "output_type": "display_data"
    }
   ],
   "source": [
    "plt.plot(avg_losses)\n",
    "plt.xlabel('mini-batch index / {}'.format(print_freq))\n",
    "plt.ylabel('avg. mini-batch loss')\n",
    "plt.show()"
   ]
  },
  {
   "cell_type": "markdown",
   "metadata": {},
   "source": [
    "#### Evaluate on Test Dataset"
   ]
  },
  {
   "cell_type": "code",
   "execution_count": 8,
   "metadata": {
    "ExecuteTime": {
     "end_time": "2019-05-05T20:22:32.491868Z",
     "start_time": "2019-05-05T20:22:29.312667Z"
    }
   },
   "outputs": [
    {
     "name": "stdout",
     "output_type": "stream",
     "text": [
      "Accuracy of the network on the 10000 test images: 67 %\n"
     ]
    }
   ],
   "source": [
    "# Get test accuracy.\n",
    "correct = 0\n",
    "total = 0\n",
    "with torch.no_grad():\n",
    "    for data in testloader:\n",
    "        images, labels = data\n",
    "        images, labels = images.to(device), labels.to(device)\n",
    "        outputs = net(images)\n",
    "        _, predicted = torch.max(outputs.data, 1)\n",
    "        total += labels.size(0)\n",
    "        correct += (predicted == labels).sum().item()\n",
    "\n",
    "print('Accuracy of the network on the 10000 test images: %d %%' % (\n",
    "    100 * correct / total))"
   ]
  },
  {
   "cell_type": "code",
   "execution_count": 9,
   "metadata": {
    "ExecuteTime": {
     "end_time": "2019-05-05T20:27:33.876489Z",
     "start_time": "2019-05-05T20:27:30.065087Z"
    }
   },
   "outputs": [
    {
     "name": "stdout",
     "output_type": "stream",
     "text": [
      "Accuracy of plane : 62 %\n",
      "Accuracy of   car : 71 %\n",
      "Accuracy of  bird : 63 %\n",
      "Accuracy of   cat : 47 %\n",
      "Accuracy of  deer : 51 %\n",
      "Accuracy of   dog : 57 %\n",
      "Accuracy of  frog : 72 %\n",
      "Accuracy of horse : 76 %\n",
      "Accuracy of  ship : 78 %\n",
      "Accuracy of truck : 74 %\n"
     ]
    }
   ],
   "source": [
    "# Get test accuracy for each class.\n",
    "class_correct = list(0. for i in range(10))\n",
    "class_total = list(0. for i in range(10))\n",
    "with torch.no_grad():\n",
    "    for data in testloader:\n",
    "        images, labels = data\n",
    "        images, labels = images.to(device), labels.to(device)\n",
    "        outputs = net(images)\n",
    "        _, predicted = torch.max(outputs, 1)\n",
    "        c = (predicted == labels).squeeze()\n",
    "        for i in range(4):\n",
    "            label = labels[i]\n",
    "            class_correct[label] += c[i].item()\n",
    "            class_total[label] += 1\n",
    "\n",
    "for i in range(10):\n",
    "    print('Accuracy of %5s : %2d %%' % (\n",
    "        classes[i], 100 * class_correct[i] / class_total[i]))"
   ]
  }
 ],
 "metadata": {
  "kernelspec": {
   "display_name": "cogs181",
   "language": "python",
   "name": "python3"
  },
  "language_info": {
   "codemirror_mode": {
    "name": "ipython",
    "version": 3
   },
   "file_extension": ".py",
   "mimetype": "text/x-python",
   "name": "python",
   "nbconvert_exporter": "python",
   "pygments_lexer": "ipython3",
   "version": "3.12.5"
  },
  "toc": {
   "base_numbering": 1,
   "nav_menu": {},
   "number_sections": true,
   "sideBar": true,
   "skip_h1_title": false,
   "title_cell": "Table of Contents",
   "title_sidebar": "Contents",
   "toc_cell": false,
   "toc_position": {},
   "toc_section_display": true,
   "toc_window_display": false
  }
 },
 "nbformat": 4,
 "nbformat_minor": 1
}
