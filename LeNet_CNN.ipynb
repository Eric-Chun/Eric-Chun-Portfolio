{
 "cells": [
  {
   "cell_type": "code",
   "execution_count": 1,
   "metadata": {
    "ExecuteTime": {
     "end_time": "2019-05-05T20:19:23.381452Z",
     "start_time": "2019-05-05T20:19:22.875162Z"
    }
   },
   "outputs": [],
   "source": [
    "%matplotlib inline\n",
    "import matplotlib.pyplot as plt\n",
    "import numpy as np\n",
    "import torch\n",
    "import torchvision\n",
    "import torchvision.transforms as transforms\n",
    "import torch.nn as nn\n",
    "import torch.nn.functional as F\n",
    "import torch.optim as optim"
   ]
  },
  {
   "cell_type": "markdown",
   "metadata": {
    "ExecuteTime": {
     "end_time": "2019-05-05T19:49:54.053090Z",
     "start_time": "2019-05-05T19:49:43.413Z"
    }
   },
   "source": [
    "#### Prepare for Dataset"
   ]
  },
  {
   "cell_type": "code",
   "execution_count": 2,
   "metadata": {
    "ExecuteTime": {
     "end_time": "2019-05-05T20:19:24.679448Z",
     "start_time": "2019-05-05T20:19:23.383032Z"
    }
   },
   "outputs": [],
   "source": [
    "transform = transforms.Compose(\n",
    "    [transforms.ToTensor(),\n",
    "     transforms.Normalize((0.5, 0.5, 0.5), (0.5, 0.5, 0.5))])\n",
    "\n",
    "trainset = torchvision.datasets.CIFAR10(root='./data', train=True,\n",
    "                                        download=True, transform=transform)\n",
    "trainloader = torch.utils.data.DataLoader(trainset, batch_size=128,\n",
    "                                          shuffle=True, num_workers=2)\n",
    "\n",
    "testset = torchvision.datasets.CIFAR10(root='./data', train=False,\n",
    "                                       download=True, transform=transform)\n",
    "testloader = torch.utils.data.DataLoader(testset, batch_size=128,\n",
    "                                         shuffle=False, num_workers=2)\n",
    "\n",
    "classes = ('plane', 'car', 'bird', 'cat',\n",
    "           'deer', 'dog', 'frog', 'horse', 'ship', 'truck')"
   ]
  },
  {
   "cell_type": "markdown",
   "metadata": {},
   "source": [
    "#### Choose a Device"
   ]
  },
  {
   "cell_type": "code",
   "execution_count": 3,
   "metadata": {
    "ExecuteTime": {
     "end_time": "2019-05-05T20:19:26.653269Z",
     "start_time": "2019-05-05T20:19:24.834664Z"
    }
   },
   "outputs": [
    {
     "name": "stdout",
     "output_type": "stream",
     "text": [
      "cpu\n"
     ]
    }
   ],
   "source": [
    "# If there are GPUs, choose the first one for computing. Otherwise use CPU.\n",
    "device = torch.device(\"cuda:0\" if torch.cuda.is_available() else \"cpu\")\n",
    "print(device)  \n",
    "# If 'cuda:0' is printed, it means GPU is available."
   ]
  },
  {
   "cell_type": "markdown",
   "metadata": {},
   "source": [
    "#### Network Definition"
   ]
  },
  {
   "cell_type": "code",
   "execution_count": 4,
   "metadata": {
    "ExecuteTime": {
     "end_time": "2019-05-05T20:19:28.825065Z",
     "start_time": "2019-05-05T20:19:26.656199Z"
    }
   },
   "outputs": [
    {
     "data": {
      "text/plain": [
       "LeNet(\n",
       "  (conv1): Conv2d(3, 6, kernel_size=(5, 5), stride=(1, 1))\n",
       "  (bn1): BatchNorm2d(6, eps=1e-05, momentum=0.1, affine=True, track_running_stats=True)\n",
       "  (conv2): Conv2d(6, 16, kernel_size=(5, 5), stride=(1, 1))\n",
       "  (bn2): BatchNorm2d(16, eps=1e-05, momentum=0.1, affine=True, track_running_stats=True)\n",
       "  (fc1): Linear(in_features=400, out_features=120, bias=True)\n",
       "  (dropout1): Dropout(p=0.5, inplace=False)\n",
       "  (fc2): Linear(in_features=120, out_features=84, bias=True)\n",
       "  (dropout2): Dropout(p=0.5, inplace=False)\n",
       "  (fc3): Linear(in_features=84, out_features=10, bias=True)\n",
       ")"
      ]
     },
     "execution_count": 4,
     "metadata": {},
     "output_type": "execute_result"
    }
   ],
   "source": [
    "class LeNet(nn.Module):\n",
    "    def __init__(self):\n",
    "        super(LeNet, self).__init__()\n",
    "        self.conv1 = nn.Conv2d(3, 6, 5)\n",
    "        self.bn1 = nn.BatchNorm2d(6)\n",
    "        self.conv2 = nn.Conv2d(6, 16, 5)\n",
    "        self.bn2 = nn.BatchNorm2d(16)\n",
    "        self.fc1 = nn.Linear(16*5*5, 120)\n",
    "        self.dropout1 = nn.Dropout(0.5)\n",
    "        self.fc2 = nn.Linear(120, 84)\n",
    "        self.dropout2 = nn.Dropout(0.5)\n",
    "        self.fc3 = nn.Linear(84, 10)\n",
    "\n",
    "    def forward(self, x):\n",
    "        out = F.relu(self.bn1(self.conv1(x)))\n",
    "        out = F.max_pool2d(out, 2)\n",
    "        out = F.relu(self.bn2(self.conv2(out)))\n",
    "        out = F.max_pool2d(out, 2)\n",
    "        out = out.view(out.size(0), -1)\n",
    "        out = F.relu(self.fc1(out))\n",
    "        out = self.dropout1(out)\n",
    "        out = F.relu(self.fc2(out))\n",
    "        out = self.dropout2(out)\n",
    "        out = self.fc3(out)\n",
    "        return out\n",
    "\n",
    "net = LeNet()     # Create the network instance.\n",
    "net.to(device)  # Move the network parameters to the specified device."
   ]
  },
  {
   "cell_type": "markdown",
   "metadata": {},
   "source": [
    "#### Optimizer and Loss Function"
   ]
  },
  {
   "cell_type": "code",
   "execution_count": 5,
   "metadata": {
    "ExecuteTime": {
     "end_time": "2019-05-05T20:19:28.829188Z",
     "start_time": "2019-05-05T20:19:28.826479Z"
    }
   },
   "outputs": [],
   "source": [
    "# We use cross-entropy as loss function.\n",
    "loss_func = nn.CrossEntropyLoss()  \n",
    "# We use stochastic gradient descent (SGD) as optimizer.\n",
    "opt = optim.SGD(net.parameters(), lr=0.001, momentum=0.9, weight_decay=0.0001) "
   ]
  },
  {
   "cell_type": "markdown",
   "metadata": {},
   "source": [
    "#### Training Procedure"
   ]
  },
  {
   "cell_type": "code",
   "execution_count": 6,
   "metadata": {
    "ExecuteTime": {
     "end_time": "2019-05-05T20:22:28.967647Z",
     "start_time": "2019-05-05T20:19:28.830370Z"
    },
    "scrolled": false
   },
   "outputs": [
    {
     "name": "stdout",
     "output_type": "stream",
     "text": [
      "[epoch: 0, i:    99] avg mini-batch loss: 2.307\n",
      "[epoch: 0, i:   199] avg mini-batch loss: 2.286\n",
      "[epoch: 0, i:   299] avg mini-batch loss: 2.257\n",
      "[epoch: 1, i:    99] avg mini-batch loss: 2.126\n",
      "[epoch: 1, i:   199] avg mini-batch loss: 2.027\n",
      "[epoch: 1, i:   299] avg mini-batch loss: 1.966\n",
      "[epoch: 2, i:    99] avg mini-batch loss: 1.878\n",
      "[epoch: 2, i:   199] avg mini-batch loss: 1.854\n",
      "[epoch: 2, i:   299] avg mini-batch loss: 1.827\n",
      "[epoch: 3, i:    99] avg mini-batch loss: 1.788\n",
      "[epoch: 3, i:   199] avg mini-batch loss: 1.776\n",
      "[epoch: 3, i:   299] avg mini-batch loss: 1.760\n",
      "[epoch: 4, i:    99] avg mini-batch loss: 1.724\n",
      "[epoch: 4, i:   199] avg mini-batch loss: 1.708\n",
      "[epoch: 4, i:   299] avg mini-batch loss: 1.701\n",
      "[epoch: 5, i:    99] avg mini-batch loss: 1.667\n",
      "[epoch: 5, i:   199] avg mini-batch loss: 1.672\n",
      "[epoch: 5, i:   299] avg mini-batch loss: 1.649\n",
      "[epoch: 6, i:    99] avg mini-batch loss: 1.612\n",
      "[epoch: 6, i:   199] avg mini-batch loss: 1.611\n",
      "[epoch: 6, i:   299] avg mini-batch loss: 1.617\n",
      "[epoch: 7, i:    99] avg mini-batch loss: 1.579\n",
      "[epoch: 7, i:   199] avg mini-batch loss: 1.586\n",
      "[epoch: 7, i:   299] avg mini-batch loss: 1.580\n",
      "[epoch: 8, i:    99] avg mini-batch loss: 1.556\n",
      "[epoch: 8, i:   199] avg mini-batch loss: 1.546\n",
      "[epoch: 8, i:   299] avg mini-batch loss: 1.537\n",
      "[epoch: 9, i:    99] avg mini-batch loss: 1.526\n",
      "[epoch: 9, i:   199] avg mini-batch loss: 1.509\n",
      "[epoch: 9, i:   299] avg mini-batch loss: 1.513\n",
      "[epoch: 10, i:    99] avg mini-batch loss: 1.484\n",
      "[epoch: 10, i:   199] avg mini-batch loss: 1.491\n",
      "[epoch: 10, i:   299] avg mini-batch loss: 1.484\n",
      "[epoch: 11, i:    99] avg mini-batch loss: 1.454\n",
      "[epoch: 11, i:   199] avg mini-batch loss: 1.475\n",
      "[epoch: 11, i:   299] avg mini-batch loss: 1.448\n",
      "[epoch: 12, i:    99] avg mini-batch loss: 1.439\n",
      "[epoch: 12, i:   199] avg mini-batch loss: 1.441\n",
      "[epoch: 12, i:   299] avg mini-batch loss: 1.434\n",
      "[epoch: 13, i:    99] avg mini-batch loss: 1.425\n",
      "[epoch: 13, i:   199] avg mini-batch loss: 1.412\n",
      "[epoch: 13, i:   299] avg mini-batch loss: 1.405\n",
      "[epoch: 14, i:    99] avg mini-batch loss: 1.395\n",
      "[epoch: 14, i:   199] avg mini-batch loss: 1.404\n",
      "[epoch: 14, i:   299] avg mini-batch loss: 1.392\n",
      "[epoch: 15, i:    99] avg mini-batch loss: 1.381\n",
      "[epoch: 15, i:   199] avg mini-batch loss: 1.382\n",
      "[epoch: 15, i:   299] avg mini-batch loss: 1.372\n",
      "[epoch: 16, i:    99] avg mini-batch loss: 1.369\n",
      "[epoch: 16, i:   199] avg mini-batch loss: 1.355\n",
      "[epoch: 16, i:   299] avg mini-batch loss: 1.342\n",
      "[epoch: 17, i:    99] avg mini-batch loss: 1.333\n",
      "[epoch: 17, i:   199] avg mini-batch loss: 1.338\n",
      "[epoch: 17, i:   299] avg mini-batch loss: 1.344\n",
      "[epoch: 18, i:    99] avg mini-batch loss: 1.334\n",
      "[epoch: 18, i:   199] avg mini-batch loss: 1.315\n",
      "[epoch: 18, i:   299] avg mini-batch loss: 1.332\n",
      "[epoch: 19, i:    99] avg mini-batch loss: 1.334\n",
      "[epoch: 19, i:   199] avg mini-batch loss: 1.314\n",
      "[epoch: 19, i:   299] avg mini-batch loss: 1.311\n",
      "[epoch: 20, i:    99] avg mini-batch loss: 1.306\n",
      "[epoch: 20, i:   199] avg mini-batch loss: 1.283\n",
      "[epoch: 20, i:   299] avg mini-batch loss: 1.304\n",
      "[epoch: 21, i:    99] avg mini-batch loss: 1.297\n",
      "[epoch: 21, i:   199] avg mini-batch loss: 1.292\n",
      "[epoch: 21, i:   299] avg mini-batch loss: 1.282\n",
      "[epoch: 22, i:    99] avg mini-batch loss: 1.292\n",
      "[epoch: 22, i:   199] avg mini-batch loss: 1.277\n",
      "[epoch: 22, i:   299] avg mini-batch loss: 1.270\n",
      "[epoch: 23, i:    99] avg mini-batch loss: 1.262\n",
      "[epoch: 23, i:   199] avg mini-batch loss: 1.271\n",
      "[epoch: 23, i:   299] avg mini-batch loss: 1.268\n",
      "[epoch: 24, i:    99] avg mini-batch loss: 1.256\n",
      "[epoch: 24, i:   199] avg mini-batch loss: 1.261\n",
      "[epoch: 24, i:   299] avg mini-batch loss: 1.260\n",
      "[epoch: 25, i:    99] avg mini-batch loss: 1.256\n",
      "[epoch: 25, i:   199] avg mini-batch loss: 1.247\n",
      "[epoch: 25, i:   299] avg mini-batch loss: 1.247\n",
      "[epoch: 26, i:    99] avg mini-batch loss: 1.242\n",
      "[epoch: 26, i:   199] avg mini-batch loss: 1.250\n",
      "[epoch: 26, i:   299] avg mini-batch loss: 1.231\n",
      "[epoch: 27, i:    99] avg mini-batch loss: 1.211\n",
      "[epoch: 27, i:   199] avg mini-batch loss: 1.240\n",
      "[epoch: 27, i:   299] avg mini-batch loss: 1.238\n",
      "[epoch: 28, i:    99] avg mini-batch loss: 1.219\n",
      "[epoch: 28, i:   199] avg mini-batch loss: 1.233\n",
      "[epoch: 28, i:   299] avg mini-batch loss: 1.233\n",
      "[epoch: 29, i:    99] avg mini-batch loss: 1.204\n",
      "[epoch: 29, i:   199] avg mini-batch loss: 1.222\n",
      "[epoch: 29, i:   299] avg mini-batch loss: 1.226\n",
      "[epoch: 30, i:    99] avg mini-batch loss: 1.209\n",
      "[epoch: 30, i:   199] avg mini-batch loss: 1.215\n",
      "[epoch: 30, i:   299] avg mini-batch loss: 1.212\n",
      "[epoch: 31, i:    99] avg mini-batch loss: 1.198\n",
      "[epoch: 31, i:   199] avg mini-batch loss: 1.201\n",
      "[epoch: 31, i:   299] avg mini-batch loss: 1.203\n",
      "[epoch: 32, i:    99] avg mini-batch loss: 1.203\n",
      "[epoch: 32, i:   199] avg mini-batch loss: 1.199\n",
      "[epoch: 32, i:   299] avg mini-batch loss: 1.198\n",
      "[epoch: 33, i:    99] avg mini-batch loss: 1.182\n",
      "[epoch: 33, i:   199] avg mini-batch loss: 1.190\n",
      "[epoch: 33, i:   299] avg mini-batch loss: 1.195\n",
      "[epoch: 34, i:    99] avg mini-batch loss: 1.175\n",
      "[epoch: 34, i:   199] avg mini-batch loss: 1.180\n",
      "[epoch: 34, i:   299] avg mini-batch loss: 1.193\n",
      "[epoch: 35, i:    99] avg mini-batch loss: 1.178\n",
      "[epoch: 35, i:   199] avg mini-batch loss: 1.174\n",
      "[epoch: 35, i:   299] avg mini-batch loss: 1.180\n",
      "[epoch: 36, i:    99] avg mini-batch loss: 1.165\n",
      "[epoch: 36, i:   199] avg mini-batch loss: 1.180\n",
      "[epoch: 36, i:   299] avg mini-batch loss: 1.160\n",
      "[epoch: 37, i:    99] avg mini-batch loss: 1.168\n",
      "[epoch: 37, i:   199] avg mini-batch loss: 1.159\n",
      "[epoch: 37, i:   299] avg mini-batch loss: 1.152\n",
      "[epoch: 38, i:    99] avg mini-batch loss: 1.147\n",
      "[epoch: 38, i:   199] avg mini-batch loss: 1.171\n",
      "[epoch: 38, i:   299] avg mini-batch loss: 1.165\n",
      "[epoch: 39, i:    99] avg mini-batch loss: 1.157\n",
      "[epoch: 39, i:   199] avg mini-batch loss: 1.148\n",
      "[epoch: 39, i:   299] avg mini-batch loss: 1.156\n",
      "[epoch: 40, i:    99] avg mini-batch loss: 1.153\n",
      "[epoch: 40, i:   199] avg mini-batch loss: 1.133\n",
      "[epoch: 40, i:   299] avg mini-batch loss: 1.156\n",
      "[epoch: 41, i:    99] avg mini-batch loss: 1.126\n",
      "[epoch: 41, i:   199] avg mini-batch loss: 1.128\n",
      "[epoch: 41, i:   299] avg mini-batch loss: 1.159\n",
      "[epoch: 42, i:    99] avg mini-batch loss: 1.154\n",
      "[epoch: 42, i:   199] avg mini-batch loss: 1.146\n",
      "[epoch: 42, i:   299] avg mini-batch loss: 1.130\n",
      "[epoch: 43, i:    99] avg mini-batch loss: 1.132\n",
      "[epoch: 43, i:   199] avg mini-batch loss: 1.140\n",
      "[epoch: 43, i:   299] avg mini-batch loss: 1.114\n",
      "[epoch: 44, i:    99] avg mini-batch loss: 1.132\n",
      "[epoch: 44, i:   199] avg mini-batch loss: 1.148\n",
      "[epoch: 44, i:   299] avg mini-batch loss: 1.125\n",
      "[epoch: 45, i:    99] avg mini-batch loss: 1.120\n",
      "[epoch: 45, i:   199] avg mini-batch loss: 1.141\n",
      "[epoch: 45, i:   299] avg mini-batch loss: 1.125\n",
      "[epoch: 46, i:    99] avg mini-batch loss: 1.099\n",
      "[epoch: 46, i:   199] avg mini-batch loss: 1.112\n",
      "[epoch: 46, i:   299] avg mini-batch loss: 1.114\n",
      "[epoch: 47, i:    99] avg mini-batch loss: 1.116\n",
      "[epoch: 47, i:   199] avg mini-batch loss: 1.098\n",
      "[epoch: 47, i:   299] avg mini-batch loss: 1.124\n",
      "[epoch: 48, i:    99] avg mini-batch loss: 1.121\n",
      "[epoch: 48, i:   199] avg mini-batch loss: 1.113\n",
      "[epoch: 48, i:   299] avg mini-batch loss: 1.101\n",
      "[epoch: 49, i:    99] avg mini-batch loss: 1.089\n",
      "[epoch: 49, i:   199] avg mini-batch loss: 1.096\n",
      "[epoch: 49, i:   299] avg mini-batch loss: 1.101\n",
      "Finished Training.\n"
     ]
    }
   ],
   "source": [
    "avg_losses = []   # Avg. losses.\n",
    "epochs = 50       # Total epochs.\n",
    "print_freq = 100  # Print frequency.\n",
    "\n",
    "for epoch in range(epochs):  # Loop over the dataset multiple times.\n",
    "    running_loss = 0.0       # Initialize running loss.\n",
    "    for i, data in enumerate(trainloader, 0):\n",
    "        # Get the inputs.\n",
    "        inputs, labels = data\n",
    "        \n",
    "        # Move the inputs to the specified device.\n",
    "        inputs, labels = inputs.to(device), labels.to(device)\n",
    "        \n",
    "        # Zero the parameter gradients.\n",
    "        opt.zero_grad()\n",
    "\n",
    "        # Forward step.\n",
    "        outputs = net(inputs)\n",
    "        loss = loss_func(outputs, labels)\n",
    "        \n",
    "        # Backward step.\n",
    "        loss.backward()\n",
    "        \n",
    "        # Optimization step (update the parameters).\n",
    "        opt.step()\n",
    "\n",
    "        # Print statistics.\n",
    "        running_loss += loss.item()\n",
    "        if i % print_freq == print_freq - 1: # Print every several mini-batches.\n",
    "            avg_loss = running_loss / print_freq\n",
    "            print('[epoch: {}, i: {:5d}] avg mini-batch loss: {:.3f}'.format(\n",
    "                epoch, i, avg_loss))\n",
    "            avg_losses.append(avg_loss)\n",
    "            running_loss = 0.0\n",
    "\n",
    "print('Finished Training.')"
   ]
  },
  {
   "cell_type": "markdown",
   "metadata": {},
   "source": [
    "#### Training Loss Curve"
   ]
  },
  {
   "cell_type": "code",
   "execution_count": 15,
   "metadata": {
    "ExecuteTime": {
     "end_time": "2019-05-05T20:22:29.127185Z",
     "start_time": "2019-05-05T20:22:28.969956Z"
    }
   },
   "outputs": [
    {
     "data": {
      "image/png": "[encoded data removed]",
      "text/plain": [
       "<Figure size 640x480 with 1 Axes>"
      ]
     },
     "metadata": {},
     "output_type": "display_data"
    }
   ],
   "source": [
    "plt.plot(avg_losses)\n",
    "plt.xlabel('mini-batch index / {}'.format(print_freq))\n",
    "plt.ylabel('avg. mini-batch loss')\n",
    "plt.show()"
   ]
  },
  {
   "cell_type": "markdown",
   "metadata": {},
   "source": [
    "#### Evaluate on Test Dataset"
   ]
  },
  {
   "cell_type": "code",
   "execution_count": 16,
   "metadata": {
    "ExecuteTime": {
     "end_time": "2019-05-05T20:22:32.491868Z",
     "start_time": "2019-05-05T20:22:29.312667Z"
    }
   },
   "outputs": [
    {
     "name": "stdout",
     "output_type": "stream",
     "text": [
      "Accuracy of the network on the 10000 test images: 58 %\n"
     ]
    }
   ],
   "source": [
    "# Get test accuracy.\n",
    "correct = 0\n",
    "total = 0\n",
    "with torch.no_grad():\n",
    "    for data in testloader:\n",
    "        images, labels = data\n",
    "        images, labels = images.to(device), labels.to(device)\n",
    "        outputs = net(images)\n",
    "        _, predicted = torch.max(outputs.data, 1)\n",
    "        total += labels.size(0)\n",
    "        correct += (predicted == labels).sum().item()\n",
    "\n",
    "print('Accuracy of the network on the 10000 test images: %d %%' % (\n",
    "    100 * correct / total))"
   ]
  },
  {
   "cell_type": "code",
   "execution_count": 17,
   "metadata": {
    "ExecuteTime": {
     "end_time": "2019-05-05T20:27:33.876489Z",
     "start_time": "2019-05-05T20:27:30.065087Z"
    }
   },
   "outputs": [
    {
     "name": "stdout",
     "output_type": "stream",
     "text": [
      "Accuracy of plane : 51 %\n",
      "Accuracy of   car : 60 %\n",
      "Accuracy of  bird : 36 %\n",
      "Accuracy of   cat : 35 %\n",
      "Accuracy of  deer : 29 %\n",
      "Accuracy of   dog : 42 %\n",
      "Accuracy of  frog : 58 %\n",
      "Accuracy of horse : 52 %\n",
      "Accuracy of  ship : 75 %\n",
      "Accuracy of truck : 71 %\n"
     ]
    }
   ],
   "source": [
    "# Get test accuracy for each class.\n",
    "class_correct = list(0. for i in range(10))\n",
    "class_total = list(0. for i in range(10))\n",
    "with torch.no_grad():\n",
    "    for data in testloader:\n",
    "        images, labels = data\n",
    "        images, labels = images.to(device), labels.to(device)\n",
    "        outputs = net(images)\n",
    "        _, predicted = torch.max(outputs, 1)\n",
    "        c = (predicted == labels).squeeze()\n",
    "        for i in range(4):\n",
    "            label = labels[i]\n",
    "            class_correct[label] += c[i].item()\n",
    "            class_total[label] += 1\n",
    "\n",
    "for i in range(10):\n",
    "    print('Accuracy of %5s : %2d %%' % (\n",
    "        classes[i], 100 * class_correct[i] / class_total[i]))"
   ]
  }
 ],
 "metadata": {
  "kernelspec": {
   "display_name": "cogs181",
   "language": "python",
   "name": "python3"
  },
  "language_info": {
   "codemirror_mode": {
    "name": "ipython",
    "version": 3
   },
   "file_extension": ".py",
   "mimetype": "text/x-python",
   "name": "python",
   "nbconvert_exporter": "python",
   "pygments_lexer": "ipython3",
   "version": "3.12.5"
  },
  "toc": {
   "base_numbering": 1,
   "nav_menu": {},
   "number_sections": true,
   "sideBar": true,
   "skip_h1_title": false,
   "title_cell": "Table of Contents",
   "title_sidebar": "Contents",
   "toc_cell": false,
   "toc_position": {},
   "toc_section_display": true,
   "toc_window_display": false
  }
 },
 "nbformat": 4,
 "nbformat_minor": 1
}
